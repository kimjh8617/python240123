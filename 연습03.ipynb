{
 "cells": [
  {
   "cell_type": "code",
   "execution_count": null,
   "metadata": {},
   "outputs": [],
   "source": [
    "from pandas import DataFrame\n",
    "import pandas as pd\n",
    "\n",
    "#첫 번째 데이터 프레임\n",
    "data = [\n",
    "    [\"컴퓨터와주변기기\", \"044380\", \"주연테크\", 784],\n",
    "    [\"교육서비스\", \"072870\", \"메가스터디\", 11390],\n",
    "    [\"식품\", \"017810\", \"풀무원\", 11460]\n",
    "]\n",
    "\n",
    "columns = [\"업종\", \"종목코드\", \"종목명\", \"현재가\"]\n",
    "df1 = DataFrame(data=data, columns=columns)\n",
    "\n",
    "#두 번째 데이터 프레임\n",
    "data = [\n",
    "    [\"건설\", -0.41],\n",
    "    [\"자동차\", -0.45],\n",
    "    [\"교육서비스\", -0.27],\n",
    "    [\"컴퓨터와주변기기\", 1.35]\n",
    "]\n",
    "\n",
    "columns = [\"업종명칭\", \"등락률\"]\n",
    "df2 = DataFrame(data=data, columns=columns)\n",
    "\n",
    "print(df1)\n",
    "print(df2)"
   ]
  },
  {
   "cell_type": "code",
   "execution_count": null,
   "metadata": {},
   "outputs": [],
   "source": []
  }
 ],
 "metadata": {
  "language_info": {
   "name": "python"
  }
 },
 "nbformat": 4,
 "nbformat_minor": 2
}

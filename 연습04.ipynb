{
 "cells": [
  {
   "cell_type": "code",
   "execution_count": 2,
   "metadata": {},
   "outputs": [
    {
     "name": "stdout",
     "output_type": "stream",
     "text": [
      "         업종    종목코드    종목명    현재가\n",
      "0  컴퓨터와주변기기  044380   주연테크    784\n",
      "1     교육서비스  072870  메가스터디  11390\n",
      "2        식품  017810    풀무원  11460\n",
      "       업종명칭   등락률\n",
      "0        건설 -0.41\n",
      "1       자동차 -0.45\n",
      "2     교육서비스 -0.27\n",
      "3  컴퓨터와주변기기  1.35\n"
     ]
    }
   ],
   "source": [
    "from pandas import DataFrame\n",
    "import pandas as pd\n",
    "\n",
    "#첫 번째 데이터 프레임\n",
    "data = [\n",
    "    [\"컴퓨터와주변기기\", \"044380\", \"주연테크\", 784],\n",
    "    [\"교육서비스\", \"072870\", \"메가스터디\", 11390],\n",
    "    [\"식품\", \"017810\", \"풀무원\", 11460]\n",
    "]\n",
    "\n",
    "columns = [\"업종\", \"종목코드\", \"종목명\", \"현재가\"]\n",
    "df1 = DataFrame(data=data, columns=columns)\n",
    "\n",
    "#두 번째 데이터 프레임\n",
    "data = [\n",
    "    [\"건설\", -0.41],\n",
    "    [\"자동차\", -0.45],\n",
    "    [\"교육서비스\", -0.27],\n",
    "    [\"컴퓨터와주변기기\", 1.35]\n",
    "]\n",
    "\n",
    "columns = [\"업종명칭\", \"등락률\"]\n",
    "df2 = DataFrame(data=data, columns=columns)\n",
    "\n",
    "print(df1)\n",
    "print(df2)"
   ]
  },
  {
   "cell_type": "code",
   "execution_count": 5,
   "metadata": {},
   "outputs": [
    {
     "data": {
      "text/html": [
       "<div>\n",
       "<style scoped>\n",
       "    .dataframe tbody tr th:only-of-type {\n",
       "        vertical-align: middle;\n",
       "    }\n",
       "\n",
       "    .dataframe tbody tr th {\n",
       "        vertical-align: top;\n",
       "    }\n",
       "\n",
       "    .dataframe thead th {\n",
       "        text-align: right;\n",
       "    }\n",
       "</style>\n",
       "<table border=\"1\" class=\"dataframe\">\n",
       "  <thead>\n",
       "    <tr style=\"text-align: right;\">\n",
       "      <th></th>\n",
       "      <th>업종</th>\n",
       "      <th>종목코드</th>\n",
       "      <th>종목명</th>\n",
       "      <th>현재가</th>\n",
       "      <th>업종명칭</th>\n",
       "      <th>등락률</th>\n",
       "    </tr>\n",
       "  </thead>\n",
       "  <tbody>\n",
       "    <tr>\n",
       "      <th>0</th>\n",
       "      <td>컴퓨터와주변기기</td>\n",
       "      <td>044380</td>\n",
       "      <td>주연테크</td>\n",
       "      <td>784</td>\n",
       "      <td>컴퓨터와주변기기</td>\n",
       "      <td>1.35</td>\n",
       "    </tr>\n",
       "    <tr>\n",
       "      <th>1</th>\n",
       "      <td>교육서비스</td>\n",
       "      <td>072870</td>\n",
       "      <td>메가스터디</td>\n",
       "      <td>11390</td>\n",
       "      <td>교육서비스</td>\n",
       "      <td>-0.27</td>\n",
       "    </tr>\n",
       "  </tbody>\n",
       "</table>\n",
       "</div>"
      ],
      "text/plain": [
       "         업종    종목코드    종목명    현재가      업종명칭   등락률\n",
       "0  컴퓨터와주변기기  044380   주연테크    784  컴퓨터와주변기기  1.35\n",
       "1     교육서비스  072870  메가스터디  11390     교육서비스 -0.27"
      ]
     },
     "execution_count": 5,
     "metadata": {},
     "output_type": "execute_result"
    }
   ],
   "source": [
    "df = pd.merge(left=df1,\n",
    "              right=df2, left_on=\"업종\",\n",
    "              right_on=\"업종명칭\")\n",
    "df\n"
   ]
  },
  {
   "cell_type": "code",
   "execution_count": null,
   "metadata": {},
   "outputs": [],
   "source": []
  }
 ],
 "metadata": {
  "kernelspec": {
   "display_name": "Python 3",
   "language": "python",
   "name": "python3"
  },
  "language_info": {
   "codemirror_mode": {
    "name": "ipython",
    "version": 3
   },
   "file_extension": ".py",
   "mimetype": "text/x-python",
   "name": "python",
   "nbconvert_exporter": "python",
   "pygments_lexer": "ipython3",
   "version": "3.10.9"
  }
 },
 "nbformat": 4,
 "nbformat_minor": 2
}
